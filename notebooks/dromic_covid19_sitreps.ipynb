{
 "cells": [
  {
   "cell_type": "markdown",
   "metadata": {},
   "source": [
    "## DSWD DROMIC Coronavirus disease (COVID-2019) situation reports\n",
    "\n",
    "Reports from https://dromic.dswd.gov.ph/coronavirus-disease-covid-19-31-dec-2019/ in Tabular format.\n"
   ]
  },
  {
   "cell_type": "code",
   "execution_count": 2,
   "metadata": {},
   "outputs": [],
   "source": [
    "import pandas as pd\n",
    "import requests\n",
    "import os\n",
    "import re\n",
    "from datetime import datetime"
   ]
  },
  {
   "cell_type": "code",
   "execution_count": 5,
   "metadata": {
    "tags": [
     "parameters"
    ]
   },
   "outputs": [
    {
     "data": {
      "text/html": [
       "<div>\n",
       "<style scoped>\n",
       "    .dataframe tbody tr th:only-of-type {\n",
       "        vertical-align: middle;\n",
       "    }\n",
       "\n",
       "    .dataframe tbody tr th {\n",
       "        vertical-align: top;\n",
       "    }\n",
       "\n",
       "    .dataframe thead th {\n",
       "        text-align: right;\n",
       "    }\n",
       "</style>\n",
       "<table border=\"1\" class=\"dataframe\">\n",
       "  <thead>\n",
       "    <tr style=\"text-align: right;\">\n",
       "      <th></th>\n",
       "      <th>date_hour</th>\n",
       "      <th>date</th>\n",
       "      <th>hour</th>\n",
       "    </tr>\n",
       "  </thead>\n",
       "  <tbody>\n",
       "    <tr>\n",
       "      <td>0</td>\n",
       "      <td>2019-01-01 00:00:00+08:00</td>\n",
       "      <td>2019-01-01</td>\n",
       "      <td>0</td>\n",
       "    </tr>\n",
       "    <tr>\n",
       "      <td>1</td>\n",
       "      <td>2019-01-01 01:00:00+08:00</td>\n",
       "      <td>2019-01-01</td>\n",
       "      <td>1</td>\n",
       "    </tr>\n",
       "    <tr>\n",
       "      <td>2</td>\n",
       "      <td>2019-01-01 02:00:00+08:00</td>\n",
       "      <td>2019-01-01</td>\n",
       "      <td>2</td>\n",
       "    </tr>\n",
       "    <tr>\n",
       "      <td>3</td>\n",
       "      <td>2019-01-01 03:00:00+08:00</td>\n",
       "      <td>2019-01-01</td>\n",
       "      <td>3</td>\n",
       "    </tr>\n",
       "    <tr>\n",
       "      <td>4</td>\n",
       "      <td>2019-01-01 04:00:00+08:00</td>\n",
       "      <td>2019-01-01</td>\n",
       "      <td>4</td>\n",
       "    </tr>\n",
       "    <tr>\n",
       "      <td>...</td>\n",
       "      <td>...</td>\n",
       "      <td>...</td>\n",
       "      <td>...</td>\n",
       "    </tr>\n",
       "    <tr>\n",
       "      <td>17540</td>\n",
       "      <td>2020-12-31 20:00:00+08:00</td>\n",
       "      <td>2020-12-31</td>\n",
       "      <td>20</td>\n",
       "    </tr>\n",
       "    <tr>\n",
       "      <td>17541</td>\n",
       "      <td>2020-12-31 21:00:00+08:00</td>\n",
       "      <td>2020-12-31</td>\n",
       "      <td>21</td>\n",
       "    </tr>\n",
       "    <tr>\n",
       "      <td>17542</td>\n",
       "      <td>2020-12-31 22:00:00+08:00</td>\n",
       "      <td>2020-12-31</td>\n",
       "      <td>22</td>\n",
       "    </tr>\n",
       "    <tr>\n",
       "      <td>17543</td>\n",
       "      <td>2020-12-31 23:00:00+08:00</td>\n",
       "      <td>2020-12-31</td>\n",
       "      <td>23</td>\n",
       "    </tr>\n",
       "    <tr>\n",
       "      <td>17544</td>\n",
       "      <td>2021-01-01 00:00:00+08:00</td>\n",
       "      <td>2021-01-01</td>\n",
       "      <td>0</td>\n",
       "    </tr>\n",
       "  </tbody>\n",
       "</table>\n",
       "<p>17545 rows × 3 columns</p>\n",
       "</div>"
      ],
      "text/plain": [
       "                      date_hour       date  hour\n",
       "0     2019-01-01 00:00:00+08:00 2019-01-01     0\n",
       "1     2019-01-01 01:00:00+08:00 2019-01-01     1\n",
       "2     2019-01-01 02:00:00+08:00 2019-01-01     2\n",
       "3     2019-01-01 03:00:00+08:00 2019-01-01     3\n",
       "4     2019-01-01 04:00:00+08:00 2019-01-01     4\n",
       "...                         ...        ...   ...\n",
       "17540 2020-12-31 20:00:00+08:00 2020-12-31    20\n",
       "17541 2020-12-31 21:00:00+08:00 2020-12-31    21\n",
       "17542 2020-12-31 22:00:00+08:00 2020-12-31    22\n",
       "17543 2020-12-31 23:00:00+08:00 2020-12-31    23\n",
       "17544 2021-01-01 00:00:00+08:00 2021-01-01     0\n",
       "\n",
       "[17545 rows x 3 columns]"
      ]
     },
     "execution_count": 5,
     "metadata": {},
     "output_type": "execute_result"
    }
   ],
   "source": [
    "# papermill parameters\n",
    "output_folder = \"../output/\"\n",
    "\n",
    "calendar = pd.date_range(start=\"2019-01-01\", end=\"2021-01-01\", freq='H', tz='Asia/Singapore')\n",
    "calendar_df = pd.DataFrame({'date_hour': calendar})\n",
    "calendar_df['date'] = calendar_df['date_hour'].dt.date\n",
    "calendar_df['date'] = calendar_df['date'].astype('datetime64[ns]')\n",
    "calendar_df['hour'] = calendar_df['date_hour'].dt.hour\n",
    "calendar_df['hour'] = calendar_df['hour']\n",
    "calendar_df"
   ]
  },
  {
   "cell_type": "code",
   "execution_count": 7,
   "metadata": {},
   "outputs": [],
   "source": [
    "calendar_df.to_csv('%s/calendar.csv' % output_folder, index = False)"
   ]
  }
 ],
 "metadata": {
  "kernelspec": {
   "display_name": "Python 3",
   "language": "python",
   "name": "python3"
  },
  "language_info": {
   "codemirror_mode": {
    "name": "ipython",
    "version": 3
   },
   "file_extension": ".py",
   "mimetype": "text/x-python",
   "name": "python",
   "nbconvert_exporter": "python",
   "pygments_lexer": "ipython3",
   "version": "3.7.4"
  }
 },
 "nbformat": 4,
 "nbformat_minor": 2
}
