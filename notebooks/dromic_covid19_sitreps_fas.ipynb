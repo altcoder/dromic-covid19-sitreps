{
 "cells": [
  {
   "cell_type": "markdown",
   "metadata": {},
   "source": [
    "## DSWD DROMIC Coronavirus disease (COVID-2019) situation reports\n",
    "\n",
    "Reports from https://dromic.dswd.gov.ph/coronavirus-disease-covid-19-31-dec-2019/ in Tabular format.\n"
   ]
  },
  {
   "cell_type": "code",
   "execution_count": 1,
   "metadata": {},
   "outputs": [],
   "source": [
    "import pandas as pd\n",
    "import requests\n",
    "import os\n",
    "import glob\n",
    "import re\n",
    "import matplotlib.pyplot as plt\n",
    "import seaborn as sns\n",
    "from datetime import datetime\n",
    "from decimal import Decimal\n",
    "from docx import Document\n",
    "import logging"
   ]
  },
  {
   "cell_type": "code",
   "execution_count": 2,
   "metadata": {
    "tags": [
     "parameters"
    ]
   },
   "outputs": [],
   "source": [
    "# papermill parameters\n",
    "output_folder = '../output/'"
   ]
  },
  {
   "cell_type": "code",
   "execution_count": 3,
   "metadata": {},
   "outputs": [],
   "source": [
    "# Source Google Map DSWD Offices\n",
    "dswd_offices = [\n",
    "    ['DSWD Central Office', 'Central Office', 14.696294999999996, 121.09674800000005],\n",
    "    ['DSWD National Resource Operation Center', 'NRLMB - NROC', 14.513659, 121.0036236],\n",
    "    ['DSWD Visayas Disaster Response Center', 'NRLMB - VDRC', 10.3093678, 123.9049462],\n",
    "    ['FO NCR Manila', 'NCR', 14.598674999999998, 120.990366],   \n",
    "    ['FO 2 Tuguegarao, Cagayan', 'II', 17.655575000000006, 121.74608899999998],\n",
    "    ['FO 1 San Fernando, La Union', 'I', 16.610573000000013, 120.317046],\n",
    "    ['FO 3 San Fernando, Pampanga', 'III', 15.029500000000027, 120.68910000000005],\n",
    "    ['FO 4A CALABARZON', 'CALABARZON', 14.425525999999985, 121.03137700000002],\n",
    "    ['FO 4B MIMAROPA', 'MIMAROPA', 14.576845000000002, 120.99156300000004],\n",
    "    ['FO 5 Legaspi City', 'V', 13.13603, 123.73976500000003],\n",
    "    ['FO 6 Iloilo City', 'VI', 10.698014999999998, 122.54788800000006],\n",
    "    ['FO 7 Cebu City', 'VII', 10.308428000000026, 123.90742999999998],\n",
    "    ['FO 8 Tacloban City', 'VIII', 11.250660000000002, 125.00533799999994],\n",
    "    ['FO 9 Zamboanga City', 'IX', 6.903621000000008, 122.08027400000003],\n",
    "    ['FO 10 Cagayan de Oro', 'X', 8.44645800000001, 124.62133199999994],\n",
    "    ['FO 11 Davao City', 'XI', 7.073695000000023, 125.61824999999999],\n",
    "    ['FO 12 Koronadal', 'XII', 6.4894340000000295, 124.85539199999994],\n",
    "    ['FO CARAGA, Butuan City', 'CARAGA', 8.94300700000001, 125.53416300000004],\n",
    "    ['FO CAR Baguio City', 'CAR', 16.408525000000004, 120.60078599999997],\n",
    "]\n",
    "dswd_offices_df = pd.DataFrame(dswd_offices, columns=['name', 'alias', 'latitude', 'longitude'])"
   ]
  },
  {
   "cell_type": "code",
   "execution_count": 6,
   "metadata": {},
   "outputs": [],
   "source": [
    "if os.getcwd().endswith('notebooks'): root_path = '../'\n",
    "else: root_path = ''\n",
    "    \n",
    "def path_of(path): \n",
    "    return root_path + path"
   ]
  },
  {
   "cell_type": "code",
   "execution_count": 11,
   "metadata": {},
   "outputs": [],
   "source": [
    "def process(doc, sitrep_no, timestamp):\n",
    "    document = Document(doc)\n",
    "    tables = document.tables\n",
    "    for tbl in tables:\n",
    "        header = tbl.rows[0].cells[1].paragraphs[0].text.upper().strip()\n",
    "        if header.startswith('STANDBY FUNDS'): # Changed to startswith() since sitrep 49 because the column header was changed\n",
    "            table = tbl\n",
    "            break\n",
    "\n",
    "    # Available Standby Funds and Stockpiles\n",
    "    #table = tables[0]\n",
    "    data_start_row = 3\n",
    "    data = []\n",
    "    for i, row in enumerate(table.rows):\n",
    "        if i >= data_start_row:\n",
    "            cur_row = []\n",
    "            cur_row.append(sitrep_no)\n",
    "            cur_row.append(timestamp)\n",
    "            for j, cell in enumerate(row.cells):\n",
    "                p = cell.paragraphs[0] # get the first paragraph of the cell only\n",
    "                if j == 0: # Office\n",
    "                    cur_row.append(p.text)\n",
    "                else: # Numerical data\n",
    "                    if p.text.strip() == '-' or p.text.strip() == '':\n",
    "                        cur_row.append(None)\n",
    "                    else:\n",
    "                        num_val = re.sub('[^0-9\\.]+', '', p.text)\n",
    "                        try: cur_row.append(Decimal(num_val)) # remove commas and double\n",
    "                        except: raise RuntimeError('Unable to parse Decimal \"%s\"' % num_val)\n",
    "\n",
    "            if len(cur_row) > 9:\n",
    "                logging.warning('Row has more than 9 columns removing subtotal column')\n",
    "                cur_row.pop(8)\n",
    "            data.append(cur_row)\n",
    "\n",
    "    data_df = pd.DataFrame(data, columns=['sitrep', 'timestamp', 'office', 'standby_funds', 'ffp_quantity', 'ffp_total_cost', 'ofi_total_cost', 'nfi_total_cost', 'total'])\n",
    "    data_df = pd.merge(data_df, dswd_offices_df, how='left', left_on='office', right_on='alias')\n",
    "    data_df = data_df.drop(['alias', 'name'], axis=1)\n",
    "    data_df = data_df[['timestamp', 'sitrep', 'office', 'latitude', 'longitude', 'standby_funds', 'ffp_quantity', 'ffp_total_cost', 'ofi_total_cost', 'nfi_total_cost', 'total']]\n",
    "    data_df.to_csv('{}/dromic_covid19_sitreps_fas_sr{:0>3d}_fas.csv'.format(output_folder, sitrep_no), index = False)\n"
   ]
  },
  {
   "cell_type": "code",
   "execution_count": 12,
   "metadata": {},
   "outputs": [
    {
     "name": "stdout",
     "output_type": "stream",
     "text": [
      "Proecssing SR58 t=2020-04-18 06:00:00 ../datasets/sitreps/DSWD-DROMIC-Report-58-on-the-Coronavirus-Disease-COVID19-as-of-18-April-2020-6AM.docx\n",
      "REGION / PROVINCE / MUNICIPALITY << IS\n",
      "STANDBY FUNDS << IS\n",
      "Proecssing SR59 t=2020-04-18 18:00:00 ../datasets/sitreps/DSWD-DROMIC-Report-59-on-the-Coronavirus-Disease-COVID19-as-of-18-April-2020-6PM.docx\n",
      "REGION / PROVINCE / MUNICIPALITY << IS\n",
      "STANDBY FUNDS \n",
      "(SEE QRF SHEET FOR OTHER DETAILS) << IS\n",
      "Proecssing SR60 t=2020-04-19 06:00:00 ../datasets/sitreps/DSWD-DROMIC-Report-60-on-the-Coronavirus-Disease-COVID19-as-of-19-April-2020-6AM.docx\n",
      "REGION / PROVINCE / MUNICIPALITY << IS\n",
      "STANDBY FUNDS \n",
      "(SEE QRF SHEET FOR OTHER DETAILS) << IS\n",
      "Proecssing SR61 t=2020-04-19 18:00:00 ../datasets/sitreps/DSWD-DROMIC-Report-61-on-the-Coronavirus-Disease-COVID19-as-of-19-April-2020-6PM.docx\n",
      "REGION / PROVINCE / MUNICIPALITY << IS\n",
      "STANDBY FUNDS \n",
      "(SEE QRF SHEET FOR OTHER DETAILS) << IS\n",
      "Proecssing SR62 t=2020-04-20 06:00:00 ../datasets/sitreps/DSWD-DROMIC-Report-62-on-the-Coronavirus-Disease-COVID19-as-of-20-April-2020-6AM.docx\n",
      "REGION / PROVINCE / MUNICIPALITY << IS\n",
      "STANDBY FUNDS \n",
      "(SEE QRF SHEET FOR OTHER DETAILS) << IS\n"
     ]
    }
   ],
   "source": [
    "inputs = []\n",
    "for input_file in glob.glob(path_of('datasets/sitreps/*.docx')):\n",
    "    fparts = os.path.splitext(os.path.basename(input_file))[0].split('-')\n",
    "    sitrep_no = fparts[3]\n",
    "    if fparts[8] == 'COVID':\n",
    "        dom = fparts[12][:2]\n",
    "        mon = fparts[13]\n",
    "        yr = fparts[14][:4]\n",
    "        hr = fparts[15][:3]\n",
    "    else: \n",
    "        dom = fparts[11][:2]\n",
    "        mon = fparts[12]\n",
    "        yr = fparts[13][:4]\n",
    "        hr = fparts[14][:3]\n",
    "    \n",
    "    datetime_string = '%s-%s-%s-%s' % (yr, mon, dom, hr)\n",
    "    timestamp = datetime.strptime(datetime_string, '%Y-%B-%d-%I%p')\n",
    "    inputs.append([int(sitrep_no), timestamp, input_file])\n",
    "\n",
    "inputs.sort(key=lambda r: r[0])\n",
    "\n",
    "min_sitrep = 102 # Process only sitreps from this value for incremental processing\n",
    "\n",
    "inputs.sort(key=lambda r: r[0]) # reverse=True to get most recent file\n",
    "for inp in inputs:\n",
    "    sitrep_no = inp[0]\n",
    "    timestamp = inp[1]\n",
    "    doc = inp[2]\n",
    "    if sitrep_no >= min_sitrep:\n",
    "        print('Proecssing SR%s t=%s %s' % (inp[0], inp[1], inp[2]))\n",
    "        process(doc, sitrep_no, timestamp)\n"
   ]
  }
 ],
 "metadata": {
  "kernelspec": {
   "display_name": "Python 3",
   "language": "python",
   "name": "python3"
  },
  "language_info": {
   "codemirror_mode": {
    "name": "ipython",
    "version": 3
   },
   "file_extension": ".py",
   "mimetype": "text/x-python",
   "name": "python",
   "nbconvert_exporter": "python",
   "pygments_lexer": "ipython3",
   "version": "3.8.2"
  }
 },
 "nbformat": 4,
 "nbformat_minor": 4
}
